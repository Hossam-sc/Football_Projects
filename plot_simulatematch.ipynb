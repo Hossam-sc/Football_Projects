{
 "cells": [
  {
   "cell_type": "code",
   "execution_count": null,
   "metadata": {},
   "outputs": [],
   "source": [
    "%matplotlib inline"
   ]
  },
  {
   "cell_type": "markdown",
   "metadata": {},
   "source": [
    "\n",
    "# Simulating a match\n",
    "\n",
    "Before we get started, we are going to simulate a football match\n",
    "using a very simple model. One in which goals occur completely at random\n",
    "during the match.\n"
   ]
  },
  {
   "cell_type": "code",
   "execution_count": 1,
   "metadata": {},
   "outputs": [],
   "source": [
    "import numpy as np\n",
    "import numpy.random as rnd\n",
    "import time\n",
    "import pylab as plt"
   ]
  },
  {
   "cell_type": "markdown",
   "metadata": {},
   "source": [
    "## Setting parameters\n",
    "Lets set up the basic scoring rates for football\n",
    "\n"
   ]
  },
  {
   "cell_type": "code",
   "execution_count": 2,
   "metadata": {},
   "outputs": [
    {
     "name": "stdout",
     "output_type": "stream",
     "text": [
      "The probability of a goal per minute is 0.03100. \n",
      "\n"
     ]
    }
   ],
   "source": [
    "#Length of match\n",
    "match_minutes = 90\n",
    "#Average goals per match\n",
    "goals_per_match = 2.79\n",
    "#Probability of a goal per minute\n",
    "prob_per_minute = np.array(goals_per_match/match_minutes)\n",
    "print('The probability of a goal per minute is %5.5f. \\n' % prob_per_minute )"
   ]
  },
  {
   "cell_type": "markdown",
   "metadata": {},
   "source": [
    "## Simulating a single game\n",
    "Now we simulate a single game. Goals go in with the same probability every minute.\n",
    "Run the simulation below 10 times. How many times were there 3 goals in a match?\n",
    "\n",
    "\n"
   ]
  },
  {
   "cell_type": "code",
   "execution_count": 10,
   "metadata": {},
   "outputs": [
    {
     "name": "stdout",
     "output_type": "stream",
     "text": [
      "o o o o o o o o o o o o o o o o o o o X o o o o o o o o o o o o o o o o o o o o o o o o o o o o o o o o X o o o X o o o o o o o o o o o o X o o o o o o o o o o o o X o o o o o o o \n",
      "\n",
      "Final whistle. \n",
      " \n",
      "There were 5 goals.\n"
     ]
    }
   ],
   "source": [
    "#Count of the number of goals\n",
    "goals=0\n",
    "\n",
    "for minute in range(match_minutes):\n",
    "\n",
    "  #Generate a random number between 0 and 1.\n",
    "  r=rnd.rand(1,1)\n",
    "\n",
    "  #Prints an X when there is a goal and a zero otherwise.\n",
    "  if (r < prob_per_minute):\n",
    "    #Goal - if the random number is less than the goal probability.\n",
    "    print('X', end = ' ')\n",
    "    goals=goals+1\n",
    "    time.sleep(1)  #Longer pause\n",
    "  else:\n",
    "    print('o', end = ' ')\n",
    "    time.sleep(0.1)  #Short pause\n",
    "print('\\n')\n",
    "print('Final whistle. \\n \\nThere were ' + str(goals) + ' goals.')"
   ]
  },
  {
   "cell_type": "markdown",
   "metadata": {},
   "source": [
    "It is likely that about 2 or 3 of your simulations ended with 3 goals.\n",
    "Most matches have between 0 and 5 goals. It is likely you saw at most one match with 0 goals.\n",
    "\n"
   ]
  },
  {
   "cell_type": "markdown",
   "metadata": {},
   "source": [
    "## Simulating goals over a season\n",
    "\n"
   ]
  },
  {
   "cell_type": "code",
   "execution_count": 17,
   "metadata": {},
   "outputs": [
    {
     "data": {
      "image/png": "[encoded data removed]",
      "text/plain": [
       "<Figure size 432x288 with 1 Axes>"
      ]
     },
     "metadata": {
      "needs_background": "light"
     },
     "output_type": "display_data"
    }
   ],
   "source": [
    "#  We now simulate 380 matches of a football season and look at how well it predicts the \n",
    "#  distribution of the number of goals. This is done in the code below: we loop over 380 matches,\n",
    "#  store the number of goals for each match in array and then we make a histogram of the number of goals.\n",
    "#\n",
    "\n",
    "\n",
    "def simulateMatch(n, p):\n",
    "  # n - number of time units\n",
    "  # p - probability per time unit of a goal\n",
    "  # display_match == True then display simulation output for match.\n",
    "\n",
    "  # Count the number of goals\n",
    "  goals = 0\n",
    "\n",
    "  for minute in range(n):\n",
    "      # Generate a random number between 0 and 1.\n",
    "      r = rnd.rand(1, 1)\n",
    "      # Prints an X when there is a goal and a zero otherwise.\n",
    "      if (r < p):\n",
    "        # Goal - if the random number is less than the goal probability.\n",
    "        goals = goals + 1\n",
    "\n",
    "  return goals\n",
    "\n",
    "# Number of matches\n",
    "num_matches = 380\n",
    "\n",
    "# Loop over all the matches and print the number of goals.\n",
    "goals = np.zeros(num_matches)\n",
    "for i in range(num_matches):\n",
    "  goals[i] = simulateMatch(match_minutes, prob_per_minute)\n",
    "  #print('In match ' + str(i+1) + ' there were ' + str(int(goals[i])) + ' goals.')\n",
    "\n",
    "# Create a histogram\n",
    "\n",
    "fig, ax = plt.subplots(num=1)\n",
    "\n",
    "histogram_range = np.arange(-0.5, 10.51, 1)\n",
    "histogram_goals = np.histogram(goals, histogram_range)\n",
    "\n",
    "ax.bar(histogram_goals[1][:-1] + 0.5, histogram_goals[0], color='blue', edgecolor='black', linestyle='-', alpha=0.5)\n",
    "ax.set_ylim(0, 100)\n",
    "ax.spines['top'].set_visible(False)\n",
    "ax.spines['right'].set_visible(False)\n",
    "ax.set_xticks(np.arange(0, 11, step=1))\n",
    "ax.set_yticks(np.arange(0, 101, step=20))\n",
    "ax.set_xlabel('Number of goals')\n",
    "ax.set_ylabel('Number of matches')\n",
    "plt.show()"
   ]
  },
  {
   "cell_type": "markdown",
   "metadata": {},
   "source": [
    "Run the code a few times and look at the resulting histogram.\n",
    "Now we have seen this simulation, we can look at football...\n"
   ]
  }
 ],
 "metadata": {
  "kernelspec": {
   "display_name": "Python 3 (ipykernel)",
   "language": "python",
   "name": "python3"
  },
  "language_info": {
   "codemirror_mode": {
    "name": "ipython",
    "version": 3
   },
   "file_extension": ".py",
   "mimetype": "text/x-python",
   "name": "python",
   "nbconvert_exporter": "python",
   "pygments_lexer": "ipython3",
   "version": "3.9.12"
  }
 },
 "nbformat": 4,
 "nbformat_minor": 1
}
